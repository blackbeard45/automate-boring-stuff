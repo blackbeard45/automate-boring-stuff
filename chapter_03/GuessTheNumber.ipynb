{
 "cells": [
  {
   "cell_type": "code",
   "execution_count": 1,
   "id": "8df050f9",
   "metadata": {},
   "outputs": [],
   "source": [
    "import random"
   ]
  },
  {
   "cell_type": "code",
   "execution_count": 11,
   "id": "4f542ebb",
   "metadata": {},
   "outputs": [],
   "source": [
    "guessed_number = random.randint(1,20)"
   ]
  },
  {
   "cell_type": "code",
   "execution_count": 12,
   "id": "7aa08784",
   "metadata": {},
   "outputs": [
    {
     "name": "stdout",
     "output_type": "stream",
     "text": [
      "I am thinking of a number between 1 to 20.\n",
      "Take a guess.\n",
      "10\n",
      "Your guess is too low!\n",
      "Take a guess.\n",
      "15\n",
      "Your guess is too high!\n",
      "Take a guess.\n",
      "13\n",
      "Your guess is too high!\n",
      "Take a guess.\n",
      "12\n",
      "Your guess is too high!\n",
      "Take a guess.\n",
      "11\n",
      "Good job! You guessed my number in 5 guesses!\n"
     ]
    }
   ],
   "source": [
    "condition = True\n",
    "user_guess_counter = 0\n",
    "print(\"I am thinking of a number between 1 to 20.\")\n",
    "while condition:\n",
    "    print(\"Take a guess.\")\n",
    "    try:\n",
    "        user_answer = int(input(\"Take a guess.\\n\"))\n",
    "    except Exception as e:\n",
    "        print(\"Please enter an integer between 1 to 20.\")\n",
    "    user_guess_counter += 1\n",
    "    print(user_answer)\n",
    "    if user_answer == guessed_number:\n",
    "        print(f\"Good job! You guessed my number in {user_guess_counter} guesses!\")\n",
    "        condition = False\n",
    "    elif user_answer < guessed_number:\n",
    "        print(\"Your guess is too low!\")\n",
    "    elif user_answer > guessed_number:\n",
    "        print(\"Your guess is too high!\")"
   ]
  },
  {
   "cell_type": "code",
   "execution_count": null,
   "id": "ae37c0c0",
   "metadata": {},
   "outputs": [],
   "source": []
  }
 ],
 "metadata": {
  "kernelspec": {
   "display_name": "Python 3 (ipykernel)",
   "language": "python",
   "name": "python3"
  },
  "language_info": {
   "codemirror_mode": {
    "name": "ipython",
    "version": 3
   },
   "file_extension": ".py",
   "mimetype": "text/x-python",
   "name": "python",
   "nbconvert_exporter": "python",
   "pygments_lexer": "ipython3",
   "version": "3.12.3"
  }
 },
 "nbformat": 4,
 "nbformat_minor": 5
}
